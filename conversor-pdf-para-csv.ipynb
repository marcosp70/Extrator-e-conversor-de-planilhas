{
 "cells": [
  {
   "cell_type": "code",
   "execution_count": null,
   "id": "ca924057",
   "metadata": {
    "scrolled": true
   },
   "outputs": [],
   "source": [
    "#restrições do programa: tenha somente na pasta os arquivos pdfs! Além disso, não coloque, no nome dos arquivos um \".\", deixe somente o \".\" do \".pdf\"\n",
    "\n",
    "from os import chdir, getcwd, listdir\n",
    "import tabula\n",
    "\n",
    "cam = input('Digite o caminho: ')\n",
    "\n",
    "chdir(cam)\n",
    "print(getcwd())\n",
    "\n",
    "lista = []  #lista em pdf\n",
    "lista2 = [] #lista em csv\n",
    "    \n",
    "for c in listdir():   #coleta o nome de todos os arquivos da pasta para a lista\n",
    "    lista.append(c) \n",
    "\n",
    "\n",
    "lista2=lista[:]  #pega os mesmos arquivos de uma lista e passa para outra, assim podemos mudar o \"final\" do nome do arquivo (.pdf para .csv)\n",
    "\n",
    "\n",
    "for i in range(0,len(lista2)):          #for com o intuito de tirar o \".pdf\" e colocar \".csv\" para poder exercutar no método final\n",
    "    mudar = lista2[i].find(\".pdf\")\n",
    "    nova_palavra = lista2[i][:mudar] + \"_convertido\"\n",
    "    nova_palavra = nova_palavra +\".csv\"\n",
    "    lista2[i]=nova_palavra\n",
    "\n",
    "print(lista)      #printa da lista em pdf\n",
    "print(lista2)     #print da lista em csv\n",
    "\n",
    "for i in range(0,len(lista2)):   #conversão de cada lista na pasta de pdf para csv\n",
    "    print(lista[i]) #arquivo que será convertido\n",
    "    print(lista2[i]) #arquivo convertido\n",
    "    tabula.convert_into(lista[i], lista2[i], output_format=\"csv\", pages='all') #conversão\n",
    "    \n"
   ]
  },
  {
   "cell_type": "code",
   "execution_count": null,
   "id": "436f079d",
   "metadata": {},
   "outputs": [],
   "source": []
  },
  {
   "cell_type": "code",
   "execution_count": null,
   "id": "89fd47c0",
   "metadata": {},
   "outputs": [],
   "source": []
  },
  {
   "cell_type": "code",
   "execution_count": null,
   "id": "8f4f1e39",
   "metadata": {},
   "outputs": [],
   "source": []
  }
 ],
 "metadata": {
  "kernelspec": {
   "display_name": "Python 3 (ipykernel)",
   "language": "python",
   "name": "python3"
  },
  "language_info": {
   "codemirror_mode": {
    "name": "ipython",
    "version": 3
   },
   "file_extension": ".py",
   "mimetype": "text/x-python",
   "name": "python",
   "nbconvert_exporter": "python",
   "pygments_lexer": "ipython3",
   "version": "3.9.7"
  }
 },
 "nbformat": 4,
 "nbformat_minor": 5
}
